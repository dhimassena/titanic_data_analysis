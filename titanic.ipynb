{
 "cells": [
  {
   "cell_type": "markdown",
   "id": "44b1640e-ddb6-4114-8f43-c40ae69f0cd5",
   "metadata": {},
   "source": [
    "- **Nama:** [Dhimas Sena Rahmantara]\n",
    "- **Email:** [dhimassr@gmail.com]"
   ]
  },
  {
   "cell_type": "code",
   "execution_count": 1,
   "id": "ef5ba46d-d5f2-4fde-b8db-3e50e99a259e",
   "metadata": {},
   "outputs": [],
   "source": [
    "import os\n",
    "import math\n",
    "import pandas as pd\n",
    "import numpy as np\n",
    "import matplotlib.pyplot as plt\n",
    "import seaborn as sns"
   ]
  },
  {
   "cell_type": "code",
   "execution_count": 3,
   "id": "8f045777-7726-4b65-a5b8-cdd638911527",
   "metadata": {},
   "outputs": [
    {
     "data": {
      "text/html": [
       "<div>\n",
       "<style scoped>\n",
       "    .dataframe tbody tr th:only-of-type {\n",
       "        vertical-align: middle;\n",
       "    }\n",
       "\n",
       "    .dataframe tbody tr th {\n",
       "        vertical-align: top;\n",
       "    }\n",
       "\n",
       "    .dataframe thead th {\n",
       "        text-align: right;\n",
       "    }\n",
       "</style>\n",
       "<table border=\"1\" class=\"dataframe\">\n",
       "  <thead>\n",
       "    <tr style=\"text-align: right;\">\n",
       "      <th></th>\n",
       "      <th>PassengerId</th>\n",
       "      <th>Survived</th>\n",
       "      <th>Pclass</th>\n",
       "      <th>Name</th>\n",
       "      <th>Sex</th>\n",
       "      <th>Age</th>\n",
       "      <th>SibSp</th>\n",
       "      <th>Parch</th>\n",
       "      <th>Ticket</th>\n",
       "      <th>Fare</th>\n",
       "      <th>Cabin</th>\n",
       "      <th>Embarked</th>\n",
       "    </tr>\n",
       "  </thead>\n",
       "  <tbody>\n",
       "    <tr>\n",
       "      <th>0</th>\n",
       "      <td>1</td>\n",
       "      <td>0</td>\n",
       "      <td>3</td>\n",
       "      <td>Braund, Mr. Owen Harris</td>\n",
       "      <td>male</td>\n",
       "      <td>22.0</td>\n",
       "      <td>1</td>\n",
       "      <td>0</td>\n",
       "      <td>A/5 21171</td>\n",
       "      <td>7.2500</td>\n",
       "      <td>NaN</td>\n",
       "      <td>S</td>\n",
       "    </tr>\n",
       "    <tr>\n",
       "      <th>1</th>\n",
       "      <td>2</td>\n",
       "      <td>1</td>\n",
       "      <td>1</td>\n",
       "      <td>Cumings, Mrs. John Bradley (Florence Briggs Th...</td>\n",
       "      <td>female</td>\n",
       "      <td>38.0</td>\n",
       "      <td>1</td>\n",
       "      <td>0</td>\n",
       "      <td>PC 17599</td>\n",
       "      <td>71.2833</td>\n",
       "      <td>C85</td>\n",
       "      <td>C</td>\n",
       "    </tr>\n",
       "    <tr>\n",
       "      <th>2</th>\n",
       "      <td>3</td>\n",
       "      <td>1</td>\n",
       "      <td>3</td>\n",
       "      <td>Heikkinen, Miss. Laina</td>\n",
       "      <td>female</td>\n",
       "      <td>26.0</td>\n",
       "      <td>0</td>\n",
       "      <td>0</td>\n",
       "      <td>STON/O2. 3101282</td>\n",
       "      <td>7.9250</td>\n",
       "      <td>NaN</td>\n",
       "      <td>S</td>\n",
       "    </tr>\n",
       "    <tr>\n",
       "      <th>3</th>\n",
       "      <td>4</td>\n",
       "      <td>1</td>\n",
       "      <td>1</td>\n",
       "      <td>Futrelle, Mrs. Jacques Heath (Lily May Peel)</td>\n",
       "      <td>female</td>\n",
       "      <td>35.0</td>\n",
       "      <td>1</td>\n",
       "      <td>0</td>\n",
       "      <td>113803</td>\n",
       "      <td>53.1000</td>\n",
       "      <td>C123</td>\n",
       "      <td>S</td>\n",
       "    </tr>\n",
       "    <tr>\n",
       "      <th>4</th>\n",
       "      <td>5</td>\n",
       "      <td>0</td>\n",
       "      <td>3</td>\n",
       "      <td>Allen, Mr. William Henry</td>\n",
       "      <td>male</td>\n",
       "      <td>35.0</td>\n",
       "      <td>0</td>\n",
       "      <td>0</td>\n",
       "      <td>373450</td>\n",
       "      <td>8.0500</td>\n",
       "      <td>NaN</td>\n",
       "      <td>S</td>\n",
       "    </tr>\n",
       "    <tr>\n",
       "      <th>...</th>\n",
       "      <td>...</td>\n",
       "      <td>...</td>\n",
       "      <td>...</td>\n",
       "      <td>...</td>\n",
       "      <td>...</td>\n",
       "      <td>...</td>\n",
       "      <td>...</td>\n",
       "      <td>...</td>\n",
       "      <td>...</td>\n",
       "      <td>...</td>\n",
       "      <td>...</td>\n",
       "      <td>...</td>\n",
       "    </tr>\n",
       "    <tr>\n",
       "      <th>886</th>\n",
       "      <td>887</td>\n",
       "      <td>0</td>\n",
       "      <td>2</td>\n",
       "      <td>Montvila, Rev. Juozas</td>\n",
       "      <td>male</td>\n",
       "      <td>27.0</td>\n",
       "      <td>0</td>\n",
       "      <td>0</td>\n",
       "      <td>211536</td>\n",
       "      <td>13.0000</td>\n",
       "      <td>NaN</td>\n",
       "      <td>S</td>\n",
       "    </tr>\n",
       "    <tr>\n",
       "      <th>887</th>\n",
       "      <td>888</td>\n",
       "      <td>1</td>\n",
       "      <td>1</td>\n",
       "      <td>Graham, Miss. Margaret Edith</td>\n",
       "      <td>female</td>\n",
       "      <td>19.0</td>\n",
       "      <td>0</td>\n",
       "      <td>0</td>\n",
       "      <td>112053</td>\n",
       "      <td>30.0000</td>\n",
       "      <td>B42</td>\n",
       "      <td>S</td>\n",
       "    </tr>\n",
       "    <tr>\n",
       "      <th>888</th>\n",
       "      <td>889</td>\n",
       "      <td>0</td>\n",
       "      <td>3</td>\n",
       "      <td>Johnston, Miss. Catherine Helen \"Carrie\"</td>\n",
       "      <td>female</td>\n",
       "      <td>NaN</td>\n",
       "      <td>1</td>\n",
       "      <td>2</td>\n",
       "      <td>W./C. 6607</td>\n",
       "      <td>23.4500</td>\n",
       "      <td>NaN</td>\n",
       "      <td>S</td>\n",
       "    </tr>\n",
       "    <tr>\n",
       "      <th>889</th>\n",
       "      <td>890</td>\n",
       "      <td>1</td>\n",
       "      <td>1</td>\n",
       "      <td>Behr, Mr. Karl Howell</td>\n",
       "      <td>male</td>\n",
       "      <td>26.0</td>\n",
       "      <td>0</td>\n",
       "      <td>0</td>\n",
       "      <td>111369</td>\n",
       "      <td>30.0000</td>\n",
       "      <td>C148</td>\n",
       "      <td>C</td>\n",
       "    </tr>\n",
       "    <tr>\n",
       "      <th>890</th>\n",
       "      <td>891</td>\n",
       "      <td>0</td>\n",
       "      <td>3</td>\n",
       "      <td>Dooley, Mr. Patrick</td>\n",
       "      <td>male</td>\n",
       "      <td>32.0</td>\n",
       "      <td>0</td>\n",
       "      <td>0</td>\n",
       "      <td>370376</td>\n",
       "      <td>7.7500</td>\n",
       "      <td>NaN</td>\n",
       "      <td>Q</td>\n",
       "    </tr>\n",
       "  </tbody>\n",
       "</table>\n",
       "<p>891 rows × 12 columns</p>\n",
       "</div>"
      ],
      "text/plain": [
       "     PassengerId  Survived  Pclass  \\\n",
       "0              1         0       3   \n",
       "1              2         1       1   \n",
       "2              3         1       3   \n",
       "3              4         1       1   \n",
       "4              5         0       3   \n",
       "..           ...       ...     ...   \n",
       "886          887         0       2   \n",
       "887          888         1       1   \n",
       "888          889         0       3   \n",
       "889          890         1       1   \n",
       "890          891         0       3   \n",
       "\n",
       "                                                  Name     Sex   Age  SibSp  \\\n",
       "0                              Braund, Mr. Owen Harris    male  22.0      1   \n",
       "1    Cumings, Mrs. John Bradley (Florence Briggs Th...  female  38.0      1   \n",
       "2                               Heikkinen, Miss. Laina  female  26.0      0   \n",
       "3         Futrelle, Mrs. Jacques Heath (Lily May Peel)  female  35.0      1   \n",
       "4                             Allen, Mr. William Henry    male  35.0      0   \n",
       "..                                                 ...     ...   ...    ...   \n",
       "886                              Montvila, Rev. Juozas    male  27.0      0   \n",
       "887                       Graham, Miss. Margaret Edith  female  19.0      0   \n",
       "888           Johnston, Miss. Catherine Helen \"Carrie\"  female   NaN      1   \n",
       "889                              Behr, Mr. Karl Howell    male  26.0      0   \n",
       "890                                Dooley, Mr. Patrick    male  32.0      0   \n",
       "\n",
       "     Parch            Ticket     Fare Cabin Embarked  \n",
       "0        0         A/5 21171   7.2500   NaN        S  \n",
       "1        0          PC 17599  71.2833   C85        C  \n",
       "2        0  STON/O2. 3101282   7.9250   NaN        S  \n",
       "3        0            113803  53.1000  C123        S  \n",
       "4        0            373450   8.0500   NaN        S  \n",
       "..     ...               ...      ...   ...      ...  \n",
       "886      0            211536  13.0000   NaN        S  \n",
       "887      0            112053  30.0000   B42        S  \n",
       "888      2        W./C. 6607  23.4500   NaN        S  \n",
       "889      0            111369  30.0000  C148        C  \n",
       "890      0            370376   7.7500   NaN        Q  \n",
       "\n",
       "[891 rows x 12 columns]"
      ]
     },
     "execution_count": 3,
     "metadata": {},
     "output_type": "execute_result"
    }
   ],
   "source": [
    "titanic_df = pd.read_csv(\"titanic.csv\")\n",
    "titanic_df"
   ]
  },
  {
   "cell_type": "code",
   "execution_count": 5,
   "id": "321b498a-bad8-448f-801b-cf2d4cd3f8b8",
   "metadata": {},
   "outputs": [
    {
     "name": "stdout",
     "output_type": "stream",
     "text": [
      "<class 'pandas.core.frame.DataFrame'>\n",
      "RangeIndex: 891 entries, 0 to 890\n",
      "Data columns (total 12 columns):\n",
      " #   Column       Non-Null Count  Dtype  \n",
      "---  ------       --------------  -----  \n",
      " 0   PassengerId  891 non-null    int64  \n",
      " 1   Survived     891 non-null    int64  \n",
      " 2   Pclass       891 non-null    int64  \n",
      " 3   Name         891 non-null    object \n",
      " 4   Sex          891 non-null    object \n",
      " 5   Age          714 non-null    float64\n",
      " 6   SibSp        891 non-null    int64  \n",
      " 7   Parch        891 non-null    int64  \n",
      " 8   Ticket       891 non-null    object \n",
      " 9   Fare         891 non-null    float64\n",
      " 10  Cabin        204 non-null    object \n",
      " 11  Embarked     889 non-null    object \n",
      "dtypes: float64(2), int64(5), object(5)\n",
      "memory usage: 83.7+ KB\n"
     ]
    }
   ],
   "source": [
    "titanic_df.info()"
   ]
  },
  {
   "cell_type": "code",
   "execution_count": 93,
   "id": "7248fa89-8702-462a-bf48-9bb0862c6eff",
   "metadata": {},
   "outputs": [
    {
     "data": {
      "text/html": [
       "<div>\n",
       "<style scoped>\n",
       "    .dataframe tbody tr th:only-of-type {\n",
       "        vertical-align: middle;\n",
       "    }\n",
       "\n",
       "    .dataframe tbody tr th {\n",
       "        vertical-align: top;\n",
       "    }\n",
       "\n",
       "    .dataframe thead th {\n",
       "        text-align: right;\n",
       "    }\n",
       "</style>\n",
       "<table border=\"1\" class=\"dataframe\">\n",
       "  <thead>\n",
       "    <tr style=\"text-align: right;\">\n",
       "      <th></th>\n",
       "      <th>PassengerId</th>\n",
       "      <th>Survived</th>\n",
       "      <th>Pclass</th>\n",
       "      <th>Age</th>\n",
       "      <th>SibSp</th>\n",
       "      <th>Parch</th>\n",
       "      <th>Fare</th>\n",
       "    </tr>\n",
       "  </thead>\n",
       "  <tbody>\n",
       "    <tr>\n",
       "      <th>count</th>\n",
       "      <td>891.000000</td>\n",
       "      <td>891.000000</td>\n",
       "      <td>891.000000</td>\n",
       "      <td>714.000000</td>\n",
       "      <td>891.000000</td>\n",
       "      <td>891.000000</td>\n",
       "      <td>891.000000</td>\n",
       "    </tr>\n",
       "    <tr>\n",
       "      <th>mean</th>\n",
       "      <td>446.000000</td>\n",
       "      <td>0.383838</td>\n",
       "      <td>2.308642</td>\n",
       "      <td>29.699118</td>\n",
       "      <td>0.523008</td>\n",
       "      <td>0.381594</td>\n",
       "      <td>32.204208</td>\n",
       "    </tr>\n",
       "    <tr>\n",
       "      <th>std</th>\n",
       "      <td>257.353842</td>\n",
       "      <td>0.486592</td>\n",
       "      <td>0.836071</td>\n",
       "      <td>14.526497</td>\n",
       "      <td>1.102743</td>\n",
       "      <td>0.806057</td>\n",
       "      <td>49.693429</td>\n",
       "    </tr>\n",
       "    <tr>\n",
       "      <th>min</th>\n",
       "      <td>1.000000</td>\n",
       "      <td>0.000000</td>\n",
       "      <td>1.000000</td>\n",
       "      <td>0.420000</td>\n",
       "      <td>0.000000</td>\n",
       "      <td>0.000000</td>\n",
       "      <td>0.000000</td>\n",
       "    </tr>\n",
       "    <tr>\n",
       "      <th>25%</th>\n",
       "      <td>223.500000</td>\n",
       "      <td>0.000000</td>\n",
       "      <td>2.000000</td>\n",
       "      <td>20.125000</td>\n",
       "      <td>0.000000</td>\n",
       "      <td>0.000000</td>\n",
       "      <td>7.910400</td>\n",
       "    </tr>\n",
       "    <tr>\n",
       "      <th>50%</th>\n",
       "      <td>446.000000</td>\n",
       "      <td>0.000000</td>\n",
       "      <td>3.000000</td>\n",
       "      <td>28.000000</td>\n",
       "      <td>0.000000</td>\n",
       "      <td>0.000000</td>\n",
       "      <td>14.454200</td>\n",
       "    </tr>\n",
       "    <tr>\n",
       "      <th>75%</th>\n",
       "      <td>668.500000</td>\n",
       "      <td>1.000000</td>\n",
       "      <td>3.000000</td>\n",
       "      <td>38.000000</td>\n",
       "      <td>1.000000</td>\n",
       "      <td>0.000000</td>\n",
       "      <td>31.000000</td>\n",
       "    </tr>\n",
       "    <tr>\n",
       "      <th>max</th>\n",
       "      <td>891.000000</td>\n",
       "      <td>1.000000</td>\n",
       "      <td>3.000000</td>\n",
       "      <td>80.000000</td>\n",
       "      <td>8.000000</td>\n",
       "      <td>6.000000</td>\n",
       "      <td>512.329200</td>\n",
       "    </tr>\n",
       "  </tbody>\n",
       "</table>\n",
       "</div>"
      ],
      "text/plain": [
       "       PassengerId    Survived      Pclass         Age       SibSp  \\\n",
       "count   891.000000  891.000000  891.000000  714.000000  891.000000   \n",
       "mean    446.000000    0.383838    2.308642   29.699118    0.523008   \n",
       "std     257.353842    0.486592    0.836071   14.526497    1.102743   \n",
       "min       1.000000    0.000000    1.000000    0.420000    0.000000   \n",
       "25%     223.500000    0.000000    2.000000   20.125000    0.000000   \n",
       "50%     446.000000    0.000000    3.000000   28.000000    0.000000   \n",
       "75%     668.500000    1.000000    3.000000   38.000000    1.000000   \n",
       "max     891.000000    1.000000    3.000000   80.000000    8.000000   \n",
       "\n",
       "            Parch        Fare  \n",
       "count  891.000000  891.000000  \n",
       "mean     0.381594   32.204208  \n",
       "std      0.806057   49.693429  \n",
       "min      0.000000    0.000000  \n",
       "25%      0.000000    7.910400  \n",
       "50%      0.000000   14.454200  \n",
       "75%      0.000000   31.000000  \n",
       "max      6.000000  512.329200  "
      ]
     },
     "execution_count": 93,
     "metadata": {},
     "output_type": "execute_result"
    }
   ],
   "source": [
    "titanic_df.describe()"
   ]
  },
  {
   "cell_type": "code",
   "execution_count": 7,
   "id": "cf0cfd35-0297-4716-91b2-b0a79b7a3031",
   "metadata": {},
   "outputs": [
    {
     "data": {
      "text/plain": [
       "PassengerId      0\n",
       "Survived         0\n",
       "Pclass           0\n",
       "Name             0\n",
       "Sex              0\n",
       "Age            177\n",
       "SibSp            0\n",
       "Parch            0\n",
       "Ticket           0\n",
       "Fare             0\n",
       "Cabin          687\n",
       "Embarked         2\n",
       "dtype: int64"
      ]
     },
     "execution_count": 7,
     "metadata": {},
     "output_type": "execute_result"
    }
   ],
   "source": [
    "titanic_df.isnull().sum()"
   ]
  },
  {
   "cell_type": "code",
   "execution_count": 97,
   "id": "b8812298-e208-48b4-858f-41bded4375a9",
   "metadata": {},
   "outputs": [
    {
     "data": {
      "text/plain": [
       "0"
      ]
     },
     "execution_count": 97,
     "metadata": {},
     "output_type": "execute_result"
    }
   ],
   "source": [
    "titanic_df.duplicated().sum()"
   ]
  },
  {
   "cell_type": "code",
   "execution_count": 9,
   "id": "aa73662c-fcc7-4625-8ae8-75d6eafb4fd5",
   "metadata": {},
   "outputs": [],
   "source": [
    "titanic_df[\"Cabin\"] = titanic_df[\"Cabin\"].fillna(\"No Cabin\")"
   ]
  },
  {
   "cell_type": "code",
   "execution_count": 11,
   "id": "458faf22-c050-4eca-a480-20e604daacab",
   "metadata": {},
   "outputs": [],
   "source": [
    "titanic_df[\"Embarked\"] = titanic_df[\"Embarked\"].fillna(\"Another City\")"
   ]
  },
  {
   "cell_type": "code",
   "execution_count": 13,
   "id": "c9b4b964-d9f2-4385-82ff-996bd273fea4",
   "metadata": {},
   "outputs": [],
   "source": [
    "titanic_df[\"Age\"] = titanic_df[\"Age\"].fillna(math.ceil(titanic_df['Age'].mean()))"
   ]
  },
  {
   "cell_type": "code",
   "execution_count": 15,
   "id": "215809ac-79fe-4d94-bb24-3f0133ad5cd2",
   "metadata": {},
   "outputs": [
    {
     "data": {
      "text/plain": [
       "PassengerId    0\n",
       "Survived       0\n",
       "Pclass         0\n",
       "Name           0\n",
       "Sex            0\n",
       "Age            0\n",
       "SibSp          0\n",
       "Parch          0\n",
       "Ticket         0\n",
       "Fare           0\n",
       "Cabin          0\n",
       "Embarked       0\n",
       "dtype: int64"
      ]
     },
     "execution_count": 15,
     "metadata": {},
     "output_type": "execute_result"
    }
   ],
   "source": [
    "titanic_df.isnull().sum()"
   ]
  },
  {
   "cell_type": "code",
   "execution_count": 17,
   "id": "dd60a454-6fa9-444b-bb94-52c01782a2f9",
   "metadata": {},
   "outputs": [
    {
     "name": "stdout",
     "output_type": "stream",
     "text": [
      "<class 'pandas.core.frame.DataFrame'>\n",
      "RangeIndex: 891 entries, 0 to 890\n",
      "Data columns (total 12 columns):\n",
      " #   Column       Non-Null Count  Dtype  \n",
      "---  ------       --------------  -----  \n",
      " 0   PassengerId  891 non-null    int64  \n",
      " 1   Survived     891 non-null    int64  \n",
      " 2   Pclass       891 non-null    int64  \n",
      " 3   Name         891 non-null    object \n",
      " 4   Sex          891 non-null    object \n",
      " 5   Age          891 non-null    float64\n",
      " 6   SibSp        891 non-null    int64  \n",
      " 7   Parch        891 non-null    int64  \n",
      " 8   Ticket       891 non-null    object \n",
      " 9   Fare         891 non-null    float64\n",
      " 10  Cabin        891 non-null    object \n",
      " 11  Embarked     891 non-null    object \n",
      "dtypes: float64(2), int64(5), object(5)\n",
      "memory usage: 83.7+ KB\n"
     ]
    }
   ],
   "source": [
    "titanic_df.info()"
   ]
  },
  {
   "cell_type": "code",
   "execution_count": 19,
   "id": "867fc089-3138-4f74-b080-531850fa751a",
   "metadata": {},
   "outputs": [],
   "source": [
    "def survived_conv(x):\n",
    "    if x == 0:\n",
    "        return \"No\"\n",
    "    elif x == 1:\n",
    "        return \"Yes\"\n",
    "\n",
    "titanic_df[\"Survived_str\"] = titanic_df[\"Survived\"].apply(survived_conv)"
   ]
  },
  {
   "cell_type": "code",
   "execution_count": 21,
   "id": "af24f02a-6091-4b14-893e-6266bb477cd8",
   "metadata": {},
   "outputs": [
    {
     "data": {
      "text/plain": [
       "Survived\n",
       "0    549\n",
       "1    342\n",
       "Name: count, dtype: int64"
      ]
     },
     "execution_count": 21,
     "metadata": {},
     "output_type": "execute_result"
    }
   ],
   "source": [
    "titanic_df.value_counts(\"Survived\")"
   ]
  },
  {
   "cell_type": "code",
   "execution_count": 23,
   "id": "13ad0eb2-7e7c-43c3-9466-4fffb8a961a5",
   "metadata": {},
   "outputs": [
    {
     "data": {
      "text/plain": [
       "Survived_str\n",
       "No     549\n",
       "Yes    342\n",
       "Name: count, dtype: int64"
      ]
     },
     "execution_count": 23,
     "metadata": {},
     "output_type": "execute_result"
    }
   ],
   "source": [
    "titanic_df.value_counts(\"Survived_str\")"
   ]
  },
  {
   "cell_type": "code",
   "execution_count": 25,
   "id": "4f88b6f5-e7b4-40c1-a1a7-860611a02f79",
   "metadata": {},
   "outputs": [
    {
     "data": {
      "text/plain": [
       "Sex\n",
       "male      577\n",
       "female    314\n",
       "Name: count, dtype: int64"
      ]
     },
     "execution_count": 25,
     "metadata": {},
     "output_type": "execute_result"
    }
   ],
   "source": [
    "titanic_df.value_counts(\"Sex\")"
   ]
  },
  {
   "cell_type": "code",
   "execution_count": 27,
   "id": "f7571fae-97da-4b9d-8801-ae2c2a1ad7ec",
   "metadata": {},
   "outputs": [],
   "source": [
    "def pclass_conv(x):\n",
    "    if x == 1:\n",
    "        return \"1st (Upper)\"\n",
    "    elif x == 2:\n",
    "        return \"2nd (Middle)\"\n",
    "    elif x == 3:\n",
    "        return \"3rd (Lower)\"\n",
    "\n",
    "titanic_df[\"Pclass_str\"] = titanic_df[\"Pclass\"].apply(pclass_conv)"
   ]
  },
  {
   "cell_type": "code",
   "execution_count": 29,
   "id": "c6ee1cf1-a472-4f78-9823-89a907799c0d",
   "metadata": {},
   "outputs": [
    {
     "data": {
      "text/plain": [
       "Pclass\n",
       "3    491\n",
       "1    216\n",
       "2    184\n",
       "Name: count, dtype: int64"
      ]
     },
     "execution_count": 29,
     "metadata": {},
     "output_type": "execute_result"
    }
   ],
   "source": [
    "titanic_df.value_counts(\"Pclass\")"
   ]
  },
  {
   "cell_type": "code",
   "execution_count": 31,
   "id": "df9fb41c-1bce-48bf-b1cf-29fbdf616b51",
   "metadata": {},
   "outputs": [
    {
     "data": {
      "text/plain": [
       "Pclass_str\n",
       "3rd (Lower)     491\n",
       "1st (Upper)     216\n",
       "2nd (Middle)    184\n",
       "Name: count, dtype: int64"
      ]
     },
     "execution_count": 31,
     "metadata": {},
     "output_type": "execute_result"
    }
   ],
   "source": [
    "titanic_df.value_counts(\"Pclass_str\")"
   ]
  },
  {
   "cell_type": "code",
   "execution_count": 33,
   "id": "9b9ff074-662d-4d59-9aed-6adcfb84ba37",
   "metadata": {},
   "outputs": [],
   "source": [
    "for i in range (0, len(titanic_df[\"Embarked\"]), 1):\n",
    "    if (titanic_df[\"Embarked\"][i] == \"C\"):\n",
    "        titanic_df.loc[i, \"Embarked_str\"] = \"Cherbourg\"\n",
    "    elif (titanic_df[\"Embarked\"][i] == \"Q\"):\n",
    "        titanic_df.loc[i, \"Embarked_str\"] = \"Queenstown\"\n",
    "    elif (titanic_df[\"Embarked\"][i] == \"S\"):\n",
    "        titanic_df.loc[i, \"Embarked_str\"] = \"Southampton\"\n",
    "    else:\n",
    "        titanic_df.loc[i, \"Embarked_str\"] = \"Another City\""
   ]
  },
  {
   "cell_type": "code",
   "execution_count": 35,
   "id": "247bba39-709a-4147-bf4f-bf8f234e11cb",
   "metadata": {},
   "outputs": [
    {
     "data": {
      "text/plain": [
       "Embarked_str\n",
       "Southampton     644\n",
       "Cherbourg       168\n",
       "Queenstown       77\n",
       "Another City      2\n",
       "Name: count, dtype: int64"
      ]
     },
     "execution_count": 35,
     "metadata": {},
     "output_type": "execute_result"
    }
   ],
   "source": [
    "titanic_df.value_counts(\"Embarked_str\")"
   ]
  },
  {
   "cell_type": "code",
   "execution_count": 37,
   "id": "0296c849-1457-42c6-ba5a-c1809821fc73",
   "metadata": {},
   "outputs": [
    {
     "data": {
      "text/plain": [
       "Embarked\n",
       "S               644\n",
       "C               168\n",
       "Q                77\n",
       "Another City      2\n",
       "Name: count, dtype: int64"
      ]
     },
     "execution_count": 37,
     "metadata": {},
     "output_type": "execute_result"
    }
   ],
   "source": [
    "titanic_df.value_counts(\"Embarked\")"
   ]
  },
  {
   "cell_type": "code",
   "execution_count": 39,
   "id": "abf98d76-12d6-42a9-ac71-716ab69f1265",
   "metadata": {},
   "outputs": [
    {
     "data": {
      "text/html": [
       "<div>\n",
       "<style scoped>\n",
       "    .dataframe tbody tr th:only-of-type {\n",
       "        vertical-align: middle;\n",
       "    }\n",
       "\n",
       "    .dataframe tbody tr th {\n",
       "        vertical-align: top;\n",
       "    }\n",
       "\n",
       "    .dataframe thead th {\n",
       "        text-align: right;\n",
       "    }\n",
       "</style>\n",
       "<table border=\"1\" class=\"dataframe\">\n",
       "  <thead>\n",
       "    <tr style=\"text-align: right;\">\n",
       "      <th></th>\n",
       "      <th>PassengerId</th>\n",
       "      <th>Survived</th>\n",
       "      <th>Pclass</th>\n",
       "      <th>Name</th>\n",
       "      <th>Sex</th>\n",
       "      <th>Age</th>\n",
       "      <th>SibSp</th>\n",
       "      <th>Parch</th>\n",
       "      <th>Ticket</th>\n",
       "      <th>Fare</th>\n",
       "      <th>Cabin</th>\n",
       "      <th>Embarked</th>\n",
       "      <th>Survived_str</th>\n",
       "      <th>Pclass_str</th>\n",
       "      <th>Embarked_str</th>\n",
       "    </tr>\n",
       "  </thead>\n",
       "  <tbody>\n",
       "    <tr>\n",
       "      <th>0</th>\n",
       "      <td>1</td>\n",
       "      <td>0</td>\n",
       "      <td>3</td>\n",
       "      <td>Braund, Mr. Owen Harris</td>\n",
       "      <td>male</td>\n",
       "      <td>22.0</td>\n",
       "      <td>1</td>\n",
       "      <td>0</td>\n",
       "      <td>A/5 21171</td>\n",
       "      <td>7.2500</td>\n",
       "      <td>No Cabin</td>\n",
       "      <td>S</td>\n",
       "      <td>No</td>\n",
       "      <td>3rd (Lower)</td>\n",
       "      <td>Southampton</td>\n",
       "    </tr>\n",
       "    <tr>\n",
       "      <th>1</th>\n",
       "      <td>2</td>\n",
       "      <td>1</td>\n",
       "      <td>1</td>\n",
       "      <td>Cumings, Mrs. John Bradley (Florence Briggs Th...</td>\n",
       "      <td>female</td>\n",
       "      <td>38.0</td>\n",
       "      <td>1</td>\n",
       "      <td>0</td>\n",
       "      <td>PC 17599</td>\n",
       "      <td>71.2833</td>\n",
       "      <td>C85</td>\n",
       "      <td>C</td>\n",
       "      <td>Yes</td>\n",
       "      <td>1st (Upper)</td>\n",
       "      <td>Cherbourg</td>\n",
       "    </tr>\n",
       "    <tr>\n",
       "      <th>2</th>\n",
       "      <td>3</td>\n",
       "      <td>1</td>\n",
       "      <td>3</td>\n",
       "      <td>Heikkinen, Miss. Laina</td>\n",
       "      <td>female</td>\n",
       "      <td>26.0</td>\n",
       "      <td>0</td>\n",
       "      <td>0</td>\n",
       "      <td>STON/O2. 3101282</td>\n",
       "      <td>7.9250</td>\n",
       "      <td>No Cabin</td>\n",
       "      <td>S</td>\n",
       "      <td>Yes</td>\n",
       "      <td>3rd (Lower)</td>\n",
       "      <td>Southampton</td>\n",
       "    </tr>\n",
       "    <tr>\n",
       "      <th>3</th>\n",
       "      <td>4</td>\n",
       "      <td>1</td>\n",
       "      <td>1</td>\n",
       "      <td>Futrelle, Mrs. Jacques Heath (Lily May Peel)</td>\n",
       "      <td>female</td>\n",
       "      <td>35.0</td>\n",
       "      <td>1</td>\n",
       "      <td>0</td>\n",
       "      <td>113803</td>\n",
       "      <td>53.1000</td>\n",
       "      <td>C123</td>\n",
       "      <td>S</td>\n",
       "      <td>Yes</td>\n",
       "      <td>1st (Upper)</td>\n",
       "      <td>Southampton</td>\n",
       "    </tr>\n",
       "    <tr>\n",
       "      <th>4</th>\n",
       "      <td>5</td>\n",
       "      <td>0</td>\n",
       "      <td>3</td>\n",
       "      <td>Allen, Mr. William Henry</td>\n",
       "      <td>male</td>\n",
       "      <td>35.0</td>\n",
       "      <td>0</td>\n",
       "      <td>0</td>\n",
       "      <td>373450</td>\n",
       "      <td>8.0500</td>\n",
       "      <td>No Cabin</td>\n",
       "      <td>S</td>\n",
       "      <td>No</td>\n",
       "      <td>3rd (Lower)</td>\n",
       "      <td>Southampton</td>\n",
       "    </tr>\n",
       "    <tr>\n",
       "      <th>...</th>\n",
       "      <td>...</td>\n",
       "      <td>...</td>\n",
       "      <td>...</td>\n",
       "      <td>...</td>\n",
       "      <td>...</td>\n",
       "      <td>...</td>\n",
       "      <td>...</td>\n",
       "      <td>...</td>\n",
       "      <td>...</td>\n",
       "      <td>...</td>\n",
       "      <td>...</td>\n",
       "      <td>...</td>\n",
       "      <td>...</td>\n",
       "      <td>...</td>\n",
       "      <td>...</td>\n",
       "    </tr>\n",
       "    <tr>\n",
       "      <th>886</th>\n",
       "      <td>887</td>\n",
       "      <td>0</td>\n",
       "      <td>2</td>\n",
       "      <td>Montvila, Rev. Juozas</td>\n",
       "      <td>male</td>\n",
       "      <td>27.0</td>\n",
       "      <td>0</td>\n",
       "      <td>0</td>\n",
       "      <td>211536</td>\n",
       "      <td>13.0000</td>\n",
       "      <td>No Cabin</td>\n",
       "      <td>S</td>\n",
       "      <td>No</td>\n",
       "      <td>2nd (Middle)</td>\n",
       "      <td>Southampton</td>\n",
       "    </tr>\n",
       "    <tr>\n",
       "      <th>887</th>\n",
       "      <td>888</td>\n",
       "      <td>1</td>\n",
       "      <td>1</td>\n",
       "      <td>Graham, Miss. Margaret Edith</td>\n",
       "      <td>female</td>\n",
       "      <td>19.0</td>\n",
       "      <td>0</td>\n",
       "      <td>0</td>\n",
       "      <td>112053</td>\n",
       "      <td>30.0000</td>\n",
       "      <td>B42</td>\n",
       "      <td>S</td>\n",
       "      <td>Yes</td>\n",
       "      <td>1st (Upper)</td>\n",
       "      <td>Southampton</td>\n",
       "    </tr>\n",
       "    <tr>\n",
       "      <th>888</th>\n",
       "      <td>889</td>\n",
       "      <td>0</td>\n",
       "      <td>3</td>\n",
       "      <td>Johnston, Miss. Catherine Helen \"Carrie\"</td>\n",
       "      <td>female</td>\n",
       "      <td>30.0</td>\n",
       "      <td>1</td>\n",
       "      <td>2</td>\n",
       "      <td>W./C. 6607</td>\n",
       "      <td>23.4500</td>\n",
       "      <td>No Cabin</td>\n",
       "      <td>S</td>\n",
       "      <td>No</td>\n",
       "      <td>3rd (Lower)</td>\n",
       "      <td>Southampton</td>\n",
       "    </tr>\n",
       "    <tr>\n",
       "      <th>889</th>\n",
       "      <td>890</td>\n",
       "      <td>1</td>\n",
       "      <td>1</td>\n",
       "      <td>Behr, Mr. Karl Howell</td>\n",
       "      <td>male</td>\n",
       "      <td>26.0</td>\n",
       "      <td>0</td>\n",
       "      <td>0</td>\n",
       "      <td>111369</td>\n",
       "      <td>30.0000</td>\n",
       "      <td>C148</td>\n",
       "      <td>C</td>\n",
       "      <td>Yes</td>\n",
       "      <td>1st (Upper)</td>\n",
       "      <td>Cherbourg</td>\n",
       "    </tr>\n",
       "    <tr>\n",
       "      <th>890</th>\n",
       "      <td>891</td>\n",
       "      <td>0</td>\n",
       "      <td>3</td>\n",
       "      <td>Dooley, Mr. Patrick</td>\n",
       "      <td>male</td>\n",
       "      <td>32.0</td>\n",
       "      <td>0</td>\n",
       "      <td>0</td>\n",
       "      <td>370376</td>\n",
       "      <td>7.7500</td>\n",
       "      <td>No Cabin</td>\n",
       "      <td>Q</td>\n",
       "      <td>No</td>\n",
       "      <td>3rd (Lower)</td>\n",
       "      <td>Queenstown</td>\n",
       "    </tr>\n",
       "  </tbody>\n",
       "</table>\n",
       "<p>891 rows × 15 columns</p>\n",
       "</div>"
      ],
      "text/plain": [
       "     PassengerId  Survived  Pclass  \\\n",
       "0              1         0       3   \n",
       "1              2         1       1   \n",
       "2              3         1       3   \n",
       "3              4         1       1   \n",
       "4              5         0       3   \n",
       "..           ...       ...     ...   \n",
       "886          887         0       2   \n",
       "887          888         1       1   \n",
       "888          889         0       3   \n",
       "889          890         1       1   \n",
       "890          891         0       3   \n",
       "\n",
       "                                                  Name     Sex   Age  SibSp  \\\n",
       "0                              Braund, Mr. Owen Harris    male  22.0      1   \n",
       "1    Cumings, Mrs. John Bradley (Florence Briggs Th...  female  38.0      1   \n",
       "2                               Heikkinen, Miss. Laina  female  26.0      0   \n",
       "3         Futrelle, Mrs. Jacques Heath (Lily May Peel)  female  35.0      1   \n",
       "4                             Allen, Mr. William Henry    male  35.0      0   \n",
       "..                                                 ...     ...   ...    ...   \n",
       "886                              Montvila, Rev. Juozas    male  27.0      0   \n",
       "887                       Graham, Miss. Margaret Edith  female  19.0      0   \n",
       "888           Johnston, Miss. Catherine Helen \"Carrie\"  female  30.0      1   \n",
       "889                              Behr, Mr. Karl Howell    male  26.0      0   \n",
       "890                                Dooley, Mr. Patrick    male  32.0      0   \n",
       "\n",
       "     Parch            Ticket     Fare     Cabin Embarked Survived_str  \\\n",
       "0        0         A/5 21171   7.2500  No Cabin        S           No   \n",
       "1        0          PC 17599  71.2833       C85        C          Yes   \n",
       "2        0  STON/O2. 3101282   7.9250  No Cabin        S          Yes   \n",
       "3        0            113803  53.1000      C123        S          Yes   \n",
       "4        0            373450   8.0500  No Cabin        S           No   \n",
       "..     ...               ...      ...       ...      ...          ...   \n",
       "886      0            211536  13.0000  No Cabin        S           No   \n",
       "887      0            112053  30.0000       B42        S          Yes   \n",
       "888      2        W./C. 6607  23.4500  No Cabin        S           No   \n",
       "889      0            111369  30.0000      C148        C          Yes   \n",
       "890      0            370376   7.7500  No Cabin        Q           No   \n",
       "\n",
       "       Pclass_str Embarked_str  \n",
       "0     3rd (Lower)  Southampton  \n",
       "1     1st (Upper)    Cherbourg  \n",
       "2     3rd (Lower)  Southampton  \n",
       "3     1st (Upper)  Southampton  \n",
       "4     3rd (Lower)  Southampton  \n",
       "..            ...          ...  \n",
       "886  2nd (Middle)  Southampton  \n",
       "887   1st (Upper)  Southampton  \n",
       "888   3rd (Lower)  Southampton  \n",
       "889   1st (Upper)    Cherbourg  \n",
       "890   3rd (Lower)   Queenstown  \n",
       "\n",
       "[891 rows x 15 columns]"
      ]
     },
     "execution_count": 39,
     "metadata": {},
     "output_type": "execute_result"
    }
   ],
   "source": [
    "titanic_df"
   ]
  },
  {
   "cell_type": "code",
   "execution_count": 41,
   "id": "2aa9c677-fb69-4247-b2a3-0a2dd5a62529",
   "metadata": {},
   "outputs": [
    {
     "data": {
      "text/plain": [
       "Sex     Survived_str\n",
       "female  No               81\n",
       "        Yes             233\n",
       "male    No              468\n",
       "        Yes             109\n",
       "Name: PassengerId, dtype: int64"
      ]
     },
     "execution_count": 41,
     "metadata": {},
     "output_type": "execute_result"
    }
   ],
   "source": [
    "survival_per_sex = titanic_df.groupby([\"Sex\", \"Survived_str\"]).count()\n",
    "survival_per_sex[\"PassengerId\"]"
   ]
  },
  {
   "cell_type": "code",
   "execution_count": 43,
   "id": "6f1088dc-3c9e-47b1-b7c8-beea9d96593a",
   "metadata": {},
   "outputs": [
    {
     "data": {
      "text/plain": [
       "Text(42.824072145061734, 0.5, 'Count')"
      ]
     },
     "execution_count": 43,
     "metadata": {},
     "output_type": "execute_result"
    },
    {
     "data": {
      "image/png": "[encoded data removed]",
      "text/plain": [
       "<Figure size 597.486x500 with 1 Axes>"
      ]
     },
     "metadata": {},
     "output_type": "display_data"
    }
   ],
   "source": [
    "g = sns.catplot(\n",
    "    data=survival_per_sex, kind=\"bar\",\n",
    "    x=\"Sex\", y=survival_per_sex[\"PassengerId\"], hue=\"Survived_str\", palette=\"Set1\", height=5\n",
    ")\n",
    "for ax in g.axes.ravel():\n",
    "    for c in ax.containers:\n",
    "        ax.bar_label(c, label_type='edge')\n",
    "\n",
    "plt.title(\"Passengers Survived According to Sex\")\n",
    "plt.xlabel(\"Sex\")\n",
    "plt.ylabel(\"Count\")\n"
   ]
  },
  {
   "cell_type": "code",
   "execution_count": 45,
   "id": "c6bbc8a5-d6d6-4180-8b57-9e28d969781c",
   "metadata": {},
   "outputs": [
    {
     "data": {
      "text/plain": [
       "Pclass_str    Survived_str\n",
       "1st (Upper)   No               80\n",
       "              Yes             136\n",
       "2nd (Middle)  No               97\n",
       "              Yes              87\n",
       "3rd (Lower)   No              372\n",
       "              Yes             119\n",
       "Name: PassengerId, dtype: int64"
      ]
     },
     "execution_count": 45,
     "metadata": {},
     "output_type": "execute_result"
    }
   ],
   "source": [
    "survival_per_pclass = titanic_df.groupby([\"Pclass_str\", \"Survived_str\"]).count()\n",
    "survival_per_pclass[\"PassengerId\"]"
   ]
  },
  {
   "cell_type": "code",
   "execution_count": 47,
   "id": "17383c08-6195-4cd4-9463-e8c2192b485b",
   "metadata": {},
   "outputs": [
    {
     "data": {
      "text/plain": [
       "Text(42.824072145061734, 0.5, 'Count')"
      ]
     },
     "execution_count": 47,
     "metadata": {},
     "output_type": "execute_result"
    },
    {
     "data": {
      "image/png": "[encoded data removed]",
      "text/plain": [
       "<Figure size 597.486x500 with 1 Axes>"
      ]
     },
     "metadata": {},
     "output_type": "display_data"
    }
   ],
   "source": [
    "g = sns.catplot(\n",
    "    data=survival_per_pclass, kind=\"bar\",\n",
    "    x=\"Pclass_str\", y=survival_per_pclass[\"PassengerId\"], hue=\"Survived_str\", palette=\"Set1\", height=5\n",
    ")\n",
    "for ax in g.axes.ravel():\n",
    "    for c in ax.containers:\n",
    "        ax.bar_label(c, label_type='edge')\n",
    "\n",
    "plt.title(\"Passengers Survived According to Passenger's Class\")\n",
    "plt.xlabel(\"Passenger's Class\")\n",
    "plt.ylabel(\"Count\")\n"
   ]
  },
  {
   "cell_type": "code",
   "execution_count": 61,
   "id": "4c722f7a-7888-43cf-a7d5-5c13f615f1fa",
   "metadata": {},
   "outputs": [
    {
     "data": {
      "text/html": [
       "<div>\n",
       "<style scoped>\n",
       "    .dataframe tbody tr th:only-of-type {\n",
       "        vertical-align: middle;\n",
       "    }\n",
       "\n",
       "    .dataframe tbody tr th {\n",
       "        vertical-align: top;\n",
       "    }\n",
       "\n",
       "    .dataframe thead th {\n",
       "        text-align: right;\n",
       "    }\n",
       "</style>\n",
       "<table border=\"1\" class=\"dataframe\">\n",
       "  <thead>\n",
       "    <tr style=\"text-align: right;\">\n",
       "      <th></th>\n",
       "      <th>Embarked_str</th>\n",
       "      <th>Survived_str</th>\n",
       "      <th>PassengerId</th>\n",
       "    </tr>\n",
       "  </thead>\n",
       "  <tbody>\n",
       "    <tr>\n",
       "      <th>7</th>\n",
       "      <td>Another City</td>\n",
       "      <td>No</td>\n",
       "      <td>0</td>\n",
       "    </tr>\n",
       "    <tr>\n",
       "      <th>0</th>\n",
       "      <td>Another City</td>\n",
       "      <td>Yes</td>\n",
       "      <td>2</td>\n",
       "    </tr>\n",
       "    <tr>\n",
       "      <th>1</th>\n",
       "      <td>Cherbourg</td>\n",
       "      <td>No</td>\n",
       "      <td>75</td>\n",
       "    </tr>\n",
       "    <tr>\n",
       "      <th>2</th>\n",
       "      <td>Cherbourg</td>\n",
       "      <td>Yes</td>\n",
       "      <td>93</td>\n",
       "    </tr>\n",
       "    <tr>\n",
       "      <th>3</th>\n",
       "      <td>Queenstown</td>\n",
       "      <td>No</td>\n",
       "      <td>47</td>\n",
       "    </tr>\n",
       "    <tr>\n",
       "      <th>4</th>\n",
       "      <td>Queenstown</td>\n",
       "      <td>Yes</td>\n",
       "      <td>30</td>\n",
       "    </tr>\n",
       "    <tr>\n",
       "      <th>5</th>\n",
       "      <td>Southampton</td>\n",
       "      <td>No</td>\n",
       "      <td>427</td>\n",
       "    </tr>\n",
       "    <tr>\n",
       "      <th>6</th>\n",
       "      <td>Southampton</td>\n",
       "      <td>Yes</td>\n",
       "      <td>217</td>\n",
       "    </tr>\n",
       "  </tbody>\n",
       "</table>\n",
       "</div>"
      ],
      "text/plain": [
       "   Embarked_str Survived_str  PassengerId\n",
       "7  Another City           No            0\n",
       "0  Another City          Yes            2\n",
       "1     Cherbourg           No           75\n",
       "2     Cherbourg          Yes           93\n",
       "3    Queenstown           No           47\n",
       "4    Queenstown          Yes           30\n",
       "5   Southampton           No          427\n",
       "6   Southampton          Yes          217"
      ]
     },
     "execution_count": 61,
     "metadata": {},
     "output_type": "execute_result"
    }
   ],
   "source": [
    "survival_per_embarked = titanic_df.groupby([\"Embarked_str\", \"Survived_str\"]).count()\n",
    "spe = survival_per_embarked[\"PassengerId\"].reset_index()\n",
    "spe.loc[len(spe.index)] = [\"Another City\", \"No\", 0]\n",
    "spe.sort_values(by=[\"Embarked_str\", \"Survived_str\"])"
   ]
  },
  {
   "cell_type": "code",
   "execution_count": 63,
   "id": "4425ffd9-3d99-4a86-8e13-95a90d970726",
   "metadata": {},
   "outputs": [
    {
     "data": {
      "text/plain": [
       "Text(42.824072145061734, 0.5, 'Count')"
      ]
     },
     "execution_count": 63,
     "metadata": {},
     "output_type": "execute_result"
    },
    {
     "data": {
      "image/png": "[encoded data removed]",
      "text/plain": [
       "<Figure size 597.486x500 with 1 Axes>"
      ]
     },
     "metadata": {},
     "output_type": "display_data"
    }
   ],
   "source": [
    "g = sns.catplot(\n",
    "    data=spe, kind=\"bar\",\n",
    "    x=\"Embarked_str\", y=spe[\"PassengerId\"], hue=\"Survived_str\", palette=\"Set1\", height=5\n",
    ")\n",
    "for ax in g.axes.ravel():\n",
    "    for c in ax.containers:\n",
    "        ax.bar_label(c, label_type='edge')\n",
    "\n",
    "plt.title(\"Passengers Survived According to Embarkation Port\")\n",
    "plt.xlabel(\"Embarkation Port\")\n",
    "plt.ylabel(\"Count\")\n"
   ]
  },
  {
   "cell_type": "code",
   "execution_count": 81,
   "id": "cf7ffb84-e557-4927-8035-3da15ef18b92",
   "metadata": {},
   "outputs": [
    {
     "name": "stdout",
     "output_type": "stream",
     "text": [
      "<class 'pandas.core.frame.DataFrame'>\n",
      "RangeIndex: 891 entries, 0 to 890\n",
      "Data columns (total 15 columns):\n",
      " #   Column        Non-Null Count  Dtype  \n",
      "---  ------        --------------  -----  \n",
      " 0   PassengerId   891 non-null    int64  \n",
      " 1   Survived      891 non-null    int64  \n",
      " 2   Pclass        891 non-null    int64  \n",
      " 3   Name          891 non-null    object \n",
      " 4   Sex           891 non-null    object \n",
      " 5   Age           891 non-null    float64\n",
      " 6   SibSp         891 non-null    int64  \n",
      " 7   Parch         891 non-null    int64  \n",
      " 8   Ticket        891 non-null    object \n",
      " 9   Fare          891 non-null    float64\n",
      " 10  Cabin         891 non-null    object \n",
      " 11  Embarked      891 non-null    object \n",
      " 12  Survived_str  891 non-null    object \n",
      " 13  Pclass_str    891 non-null    object \n",
      " 14  Embarked_str  891 non-null    object \n",
      "dtypes: float64(2), int64(5), object(8)\n",
      "memory usage: 104.5+ KB\n"
     ]
    }
   ],
   "source": [
    "titanic_df.info()"
   ]
  },
  {
   "cell_type": "code",
   "execution_count": 160,
   "id": "c524dedc-b271-4b78-8fca-ed96dc04f0f8",
   "metadata": {},
   "outputs": [],
   "source": [
    "for i in range(0, len(titanic_df[\"Age\"]), 1):\n",
    "    if (titanic_df[\"Age\"][i] <= 1):\n",
    "        titanic_df.loc[i, \"Age_cat\"] = \"Infant (0-1)\"\n",
    "    elif (titanic_df[\"Age\"][i] > 1 and titanic_df[\"Age\"][i] <= 5):\n",
    "        titanic_df.loc[i, \"Age_cat\"] = \"Toddler (1-5)\"\n",
    "    elif (titanic_df[\"Age\"][i] > 5 and titanic_df[\"Age\"][i] <= 12):\n",
    "        titanic_df.loc[i, \"Age_cat\"] = \"Children (5-12)\"\n",
    "    elif (titanic_df[\"Age\"][i] > 12 and titanic_df[\"Age\"][i] <= 19):\n",
    "        titanic_df.loc[i, \"Age_cat\"] = \"Teenager (12-19)\"\n",
    "    elif (titanic_df[\"Age\"][i] > 19 and titanic_df[\"Age\"][i] <= 64):\n",
    "        titanic_df.loc[i, \"Age_cat\"] = \"Adult (19-64)\"\n",
    "    elif (titanic_df[\"Age\"][i] > 64):\n",
    "        titanic_df.loc[i, \"Age_cat\"] = \"Elderly (> 64)\""
   ]
  },
  {
   "cell_type": "code",
   "execution_count": 178,
   "id": "2802a2aa-f62a-4c24-8f87-81e185c0b580",
   "metadata": {},
   "outputs": [
    {
     "data": {
      "text/plain": [
       "0     454\n",
       "1     262\n",
       "2      16\n",
       "3       9\n",
       "4      10\n",
       "5       1\n",
       "6       2\n",
       "7      12\n",
       "8      56\n",
       "9      39\n",
       "10     11\n",
       "11     19\n",
       "Name: PassengerId, dtype: int64"
      ]
     },
     "execution_count": 178,
     "metadata": {},
     "output_type": "execute_result"
    }
   ],
   "source": [
    "survival_per_age_cat = titanic_df.groupby([\"Age_cat\", \"Survived_str\"]).count()\n",
    "survival_per_age_cat = survival_per_age_cat.reset_index()\n",
    "survival_per_age_cat[\"PassengerId\"]"
   ]
  },
  {
   "cell_type": "code",
   "execution_count": 190,
   "id": "486d67a9-812a-48d6-b7ba-26d5859eaa2c",
   "metadata": {},
   "outputs": [
    {
     "data": {
      "text/plain": [
       "Text(37.64004509066358, 0.5, 'Count')"
      ]
     },
     "execution_count": 190,
     "metadata": {},
     "output_type": "execute_result"
    },
    {
     "data": {
      "image/png": "[encoded data removed]",
      "text/plain": [
       "<Figure size 897.486x800 with 1 Axes>"
      ]
     },
     "metadata": {},
     "output_type": "display_data"
    }
   ],
   "source": [
    "g = sns.catplot(\n",
    "    data=survival_per_age_cat, kind=\"bar\",\n",
    "    x=\"Age_cat\", y=survival_per_age_cat[\"PassengerId\"], hue=\"Survived_str\", palette=\"Set1\", height=8\n",
    ")\n",
    "for ax in g.axes.ravel():\n",
    "    for c in ax.containers:\n",
    "        ax.bar_label(c, label_type='edge')\n",
    "\n",
    "plt.title(\"Passengers Survived According to Passengers' Age Category\")\n",
    "plt.xlabel(\"Age Category (Year)\")\n",
    "plt.ylabel(\"Count\")\n"
   ]
  },
  {
   "cell_type": "code",
   "execution_count": 257,
   "id": "d4ace649-b7cb-4cb8-8175-30ad293dcd35",
   "metadata": {},
   "outputs": [],
   "source": [
    "for i in range(0, len(titanic_df[\"Fare\"]), 1):\n",
    "    if (titanic_df[\"Fare\"][i] <= 50):\n",
    "        titanic_df.loc[i, \"Fare_cat\"] = \"Cheap (0-50)\"\n",
    "    elif (titanic_df[\"Fare\"][i] > 50 and titanic_df[\"Fare\"][i] <= 100):\n",
    "        titanic_df.loc[i, \"Fare_cat\"] = \"Middle (50-100)\"\n",
    "    elif (titanic_df[\"Fare\"][i] > 100):\n",
    "        titanic_df.loc[i, \"Fare_cat\"] = \"Expensive (> 100)\"\n",
    "        "
   ]
  },
  {
   "cell_type": "code",
   "execution_count": 271,
   "id": "0c19ab96-5ba9-4d9b-8749-c55408a8e4f1",
   "metadata": {},
   "outputs": [
    {
     "data": {
      "text/plain": [
       "0    498\n",
       "1    233\n",
       "2     14\n",
       "3     39\n",
       "4     37\n",
       "5     70\n",
       "Name: PassengerId, dtype: int64"
      ]
     },
     "execution_count": 271,
     "metadata": {},
     "output_type": "execute_result"
    }
   ],
   "source": [
    "survival_per_fare_cat = titanic_df.groupby([\"Fare_cat\", \"Survived_str\"]).count()\n",
    "survival_per_fare_cat = survival_per_fare_cat.reset_index()\n",
    "survival_per_fare_cat[\"PassengerId\"]"
   ]
  },
  {
   "cell_type": "code",
   "execution_count": 275,
   "id": "7dcaf9c3-a272-4e4b-881f-59f84f219c91",
   "metadata": {},
   "outputs": [
    {
     "data": {
      "text/plain": [
       "Text(42.824072145061734, 0.5, 'Count')"
      ]
     },
     "execution_count": 275,
     "metadata": {},
     "output_type": "execute_result"
    },
    {
     "data": {
      "image/png": "[encoded data removed]",
      "text/plain": [
       "<Figure size 597.486x500 with 1 Axes>"
      ]
     },
     "metadata": {},
     "output_type": "display_data"
    }
   ],
   "source": [
    "g = sns.catplot(\n",
    "    data=survival_per_fare_cat, kind=\"bar\",\n",
    "    x=\"Fare_cat\", y=survival_per_fare_cat[\"PassengerId\"], hue=\"Survived_str\", palette=\"Set1\", height=5\n",
    ")\n",
    "for ax in g.axes.ravel():\n",
    "    for c in ax.containers:\n",
    "        ax.bar_label(c, label_type='edge')\n",
    "\n",
    "plt.title(\"Passengers Survived According to Passengers' Fare Category\")\n",
    "plt.xlabel(\"Fare Category\")\n",
    "plt.ylabel(\"Count\")\n"
   ]
  },
  {
   "cell_type": "code",
   "execution_count": 277,
   "id": "c50b52fd-0f32-4453-9f95-9f3a880a9e9d",
   "metadata": {},
   "outputs": [
    {
     "data": {
      "text/html": [
       "<div>\n",
       "<style scoped>\n",
       "    .dataframe tbody tr th:only-of-type {\n",
       "        vertical-align: middle;\n",
       "    }\n",
       "\n",
       "    .dataframe tbody tr th {\n",
       "        vertical-align: top;\n",
       "    }\n",
       "\n",
       "    .dataframe thead th {\n",
       "        text-align: right;\n",
       "    }\n",
       "</style>\n",
       "<table border=\"1\" class=\"dataframe\">\n",
       "  <thead>\n",
       "    <tr style=\"text-align: right;\">\n",
       "      <th></th>\n",
       "      <th>PassengerId</th>\n",
       "      <th>Survived</th>\n",
       "      <th>Pclass</th>\n",
       "      <th>Name</th>\n",
       "      <th>Sex</th>\n",
       "      <th>Age</th>\n",
       "      <th>SibSp</th>\n",
       "      <th>Parch</th>\n",
       "      <th>Ticket</th>\n",
       "      <th>Fare</th>\n",
       "      <th>Cabin</th>\n",
       "      <th>Embarked</th>\n",
       "      <th>Survived_str</th>\n",
       "      <th>Pclass_str</th>\n",
       "      <th>Embarked_str</th>\n",
       "      <th>Age_cat</th>\n",
       "      <th>Fare_cat</th>\n",
       "    </tr>\n",
       "  </thead>\n",
       "  <tbody>\n",
       "    <tr>\n",
       "      <th>0</th>\n",
       "      <td>1</td>\n",
       "      <td>0</td>\n",
       "      <td>3</td>\n",
       "      <td>Braund, Mr. Owen Harris</td>\n",
       "      <td>male</td>\n",
       "      <td>22.0</td>\n",
       "      <td>1</td>\n",
       "      <td>0</td>\n",
       "      <td>A/5 21171</td>\n",
       "      <td>7.2500</td>\n",
       "      <td>No Cabin</td>\n",
       "      <td>S</td>\n",
       "      <td>No</td>\n",
       "      <td>3rd (Lower)</td>\n",
       "      <td>Southampton</td>\n",
       "      <td>Adult (19-64)</td>\n",
       "      <td>Cheap (0-50)</td>\n",
       "    </tr>\n",
       "    <tr>\n",
       "      <th>1</th>\n",
       "      <td>2</td>\n",
       "      <td>1</td>\n",
       "      <td>1</td>\n",
       "      <td>Cumings, Mrs. John Bradley (Florence Briggs Th...</td>\n",
       "      <td>female</td>\n",
       "      <td>38.0</td>\n",
       "      <td>1</td>\n",
       "      <td>0</td>\n",
       "      <td>PC 17599</td>\n",
       "      <td>71.2833</td>\n",
       "      <td>C85</td>\n",
       "      <td>C</td>\n",
       "      <td>Yes</td>\n",
       "      <td>1st (Upper)</td>\n",
       "      <td>Cherbourg</td>\n",
       "      <td>Adult (19-64)</td>\n",
       "      <td>Middle (50-100)</td>\n",
       "    </tr>\n",
       "    <tr>\n",
       "      <th>2</th>\n",
       "      <td>3</td>\n",
       "      <td>1</td>\n",
       "      <td>3</td>\n",
       "      <td>Heikkinen, Miss. Laina</td>\n",
       "      <td>female</td>\n",
       "      <td>26.0</td>\n",
       "      <td>0</td>\n",
       "      <td>0</td>\n",
       "      <td>STON/O2. 3101282</td>\n",
       "      <td>7.9250</td>\n",
       "      <td>No Cabin</td>\n",
       "      <td>S</td>\n",
       "      <td>Yes</td>\n",
       "      <td>3rd (Lower)</td>\n",
       "      <td>Southampton</td>\n",
       "      <td>Adult (19-64)</td>\n",
       "      <td>Cheap (0-50)</td>\n",
       "    </tr>\n",
       "    <tr>\n",
       "      <th>3</th>\n",
       "      <td>4</td>\n",
       "      <td>1</td>\n",
       "      <td>1</td>\n",
       "      <td>Futrelle, Mrs. Jacques Heath (Lily May Peel)</td>\n",
       "      <td>female</td>\n",
       "      <td>35.0</td>\n",
       "      <td>1</td>\n",
       "      <td>0</td>\n",
       "      <td>113803</td>\n",
       "      <td>53.1000</td>\n",
       "      <td>C123</td>\n",
       "      <td>S</td>\n",
       "      <td>Yes</td>\n",
       "      <td>1st (Upper)</td>\n",
       "      <td>Southampton</td>\n",
       "      <td>Adult (19-64)</td>\n",
       "      <td>Middle (50-100)</td>\n",
       "    </tr>\n",
       "    <tr>\n",
       "      <th>4</th>\n",
       "      <td>5</td>\n",
       "      <td>0</td>\n",
       "      <td>3</td>\n",
       "      <td>Allen, Mr. William Henry</td>\n",
       "      <td>male</td>\n",
       "      <td>35.0</td>\n",
       "      <td>0</td>\n",
       "      <td>0</td>\n",
       "      <td>373450</td>\n",
       "      <td>8.0500</td>\n",
       "      <td>No Cabin</td>\n",
       "      <td>S</td>\n",
       "      <td>No</td>\n",
       "      <td>3rd (Lower)</td>\n",
       "      <td>Southampton</td>\n",
       "      <td>Adult (19-64)</td>\n",
       "      <td>Cheap (0-50)</td>\n",
       "    </tr>\n",
       "    <tr>\n",
       "      <th>...</th>\n",
       "      <td>...</td>\n",
       "      <td>...</td>\n",
       "      <td>...</td>\n",
       "      <td>...</td>\n",
       "      <td>...</td>\n",
       "      <td>...</td>\n",
       "      <td>...</td>\n",
       "      <td>...</td>\n",
       "      <td>...</td>\n",
       "      <td>...</td>\n",
       "      <td>...</td>\n",
       "      <td>...</td>\n",
       "      <td>...</td>\n",
       "      <td>...</td>\n",
       "      <td>...</td>\n",
       "      <td>...</td>\n",
       "      <td>...</td>\n",
       "    </tr>\n",
       "    <tr>\n",
       "      <th>886</th>\n",
       "      <td>887</td>\n",
       "      <td>0</td>\n",
       "      <td>2</td>\n",
       "      <td>Montvila, Rev. Juozas</td>\n",
       "      <td>male</td>\n",
       "      <td>27.0</td>\n",
       "      <td>0</td>\n",
       "      <td>0</td>\n",
       "      <td>211536</td>\n",
       "      <td>13.0000</td>\n",
       "      <td>No Cabin</td>\n",
       "      <td>S</td>\n",
       "      <td>No</td>\n",
       "      <td>2nd (Middle)</td>\n",
       "      <td>Southampton</td>\n",
       "      <td>Adult (19-64)</td>\n",
       "      <td>Cheap (0-50)</td>\n",
       "    </tr>\n",
       "    <tr>\n",
       "      <th>887</th>\n",
       "      <td>888</td>\n",
       "      <td>1</td>\n",
       "      <td>1</td>\n",
       "      <td>Graham, Miss. Margaret Edith</td>\n",
       "      <td>female</td>\n",
       "      <td>19.0</td>\n",
       "      <td>0</td>\n",
       "      <td>0</td>\n",
       "      <td>112053</td>\n",
       "      <td>30.0000</td>\n",
       "      <td>B42</td>\n",
       "      <td>S</td>\n",
       "      <td>Yes</td>\n",
       "      <td>1st (Upper)</td>\n",
       "      <td>Southampton</td>\n",
       "      <td>Teenager (12-19)</td>\n",
       "      <td>Cheap (0-50)</td>\n",
       "    </tr>\n",
       "    <tr>\n",
       "      <th>888</th>\n",
       "      <td>889</td>\n",
       "      <td>0</td>\n",
       "      <td>3</td>\n",
       "      <td>Johnston, Miss. Catherine Helen \"Carrie\"</td>\n",
       "      <td>female</td>\n",
       "      <td>30.0</td>\n",
       "      <td>1</td>\n",
       "      <td>2</td>\n",
       "      <td>W./C. 6607</td>\n",
       "      <td>23.4500</td>\n",
       "      <td>No Cabin</td>\n",
       "      <td>S</td>\n",
       "      <td>No</td>\n",
       "      <td>3rd (Lower)</td>\n",
       "      <td>Southampton</td>\n",
       "      <td>Adult (19-64)</td>\n",
       "      <td>Cheap (0-50)</td>\n",
       "    </tr>\n",
       "    <tr>\n",
       "      <th>889</th>\n",
       "      <td>890</td>\n",
       "      <td>1</td>\n",
       "      <td>1</td>\n",
       "      <td>Behr, Mr. Karl Howell</td>\n",
       "      <td>male</td>\n",
       "      <td>26.0</td>\n",
       "      <td>0</td>\n",
       "      <td>0</td>\n",
       "      <td>111369</td>\n",
       "      <td>30.0000</td>\n",
       "      <td>C148</td>\n",
       "      <td>C</td>\n",
       "      <td>Yes</td>\n",
       "      <td>1st (Upper)</td>\n",
       "      <td>Cherbourg</td>\n",
       "      <td>Adult (19-64)</td>\n",
       "      <td>Cheap (0-50)</td>\n",
       "    </tr>\n",
       "    <tr>\n",
       "      <th>890</th>\n",
       "      <td>891</td>\n",
       "      <td>0</td>\n",
       "      <td>3</td>\n",
       "      <td>Dooley, Mr. Patrick</td>\n",
       "      <td>male</td>\n",
       "      <td>32.0</td>\n",
       "      <td>0</td>\n",
       "      <td>0</td>\n",
       "      <td>370376</td>\n",
       "      <td>7.7500</td>\n",
       "      <td>No Cabin</td>\n",
       "      <td>Q</td>\n",
       "      <td>No</td>\n",
       "      <td>3rd (Lower)</td>\n",
       "      <td>Queenstown</td>\n",
       "      <td>Adult (19-64)</td>\n",
       "      <td>Cheap (0-50)</td>\n",
       "    </tr>\n",
       "  </tbody>\n",
       "</table>\n",
       "<p>891 rows × 17 columns</p>\n",
       "</div>"
      ],
      "text/plain": [
       "     PassengerId  Survived  Pclass  \\\n",
       "0              1         0       3   \n",
       "1              2         1       1   \n",
       "2              3         1       3   \n",
       "3              4         1       1   \n",
       "4              5         0       3   \n",
       "..           ...       ...     ...   \n",
       "886          887         0       2   \n",
       "887          888         1       1   \n",
       "888          889         0       3   \n",
       "889          890         1       1   \n",
       "890          891         0       3   \n",
       "\n",
       "                                                  Name     Sex   Age  SibSp  \\\n",
       "0                              Braund, Mr. Owen Harris    male  22.0      1   \n",
       "1    Cumings, Mrs. John Bradley (Florence Briggs Th...  female  38.0      1   \n",
       "2                               Heikkinen, Miss. Laina  female  26.0      0   \n",
       "3         Futrelle, Mrs. Jacques Heath (Lily May Peel)  female  35.0      1   \n",
       "4                             Allen, Mr. William Henry    male  35.0      0   \n",
       "..                                                 ...     ...   ...    ...   \n",
       "886                              Montvila, Rev. Juozas    male  27.0      0   \n",
       "887                       Graham, Miss. Margaret Edith  female  19.0      0   \n",
       "888           Johnston, Miss. Catherine Helen \"Carrie\"  female  30.0      1   \n",
       "889                              Behr, Mr. Karl Howell    male  26.0      0   \n",
       "890                                Dooley, Mr. Patrick    male  32.0      0   \n",
       "\n",
       "     Parch            Ticket     Fare     Cabin Embarked Survived_str  \\\n",
       "0        0         A/5 21171   7.2500  No Cabin        S           No   \n",
       "1        0          PC 17599  71.2833       C85        C          Yes   \n",
       "2        0  STON/O2. 3101282   7.9250  No Cabin        S          Yes   \n",
       "3        0            113803  53.1000      C123        S          Yes   \n",
       "4        0            373450   8.0500  No Cabin        S           No   \n",
       "..     ...               ...      ...       ...      ...          ...   \n",
       "886      0            211536  13.0000  No Cabin        S           No   \n",
       "887      0            112053  30.0000       B42        S          Yes   \n",
       "888      2        W./C. 6607  23.4500  No Cabin        S           No   \n",
       "889      0            111369  30.0000      C148        C          Yes   \n",
       "890      0            370376   7.7500  No Cabin        Q           No   \n",
       "\n",
       "       Pclass_str Embarked_str           Age_cat         Fare_cat  \n",
       "0     3rd (Lower)  Southampton     Adult (19-64)     Cheap (0-50)  \n",
       "1     1st (Upper)    Cherbourg     Adult (19-64)  Middle (50-100)  \n",
       "2     3rd (Lower)  Southampton     Adult (19-64)     Cheap (0-50)  \n",
       "3     1st (Upper)  Southampton     Adult (19-64)  Middle (50-100)  \n",
       "4     3rd (Lower)  Southampton     Adult (19-64)     Cheap (0-50)  \n",
       "..            ...          ...               ...              ...  \n",
       "886  2nd (Middle)  Southampton     Adult (19-64)     Cheap (0-50)  \n",
       "887   1st (Upper)  Southampton  Teenager (12-19)     Cheap (0-50)  \n",
       "888   3rd (Lower)  Southampton     Adult (19-64)     Cheap (0-50)  \n",
       "889   1st (Upper)    Cherbourg     Adult (19-64)     Cheap (0-50)  \n",
       "890   3rd (Lower)   Queenstown     Adult (19-64)     Cheap (0-50)  \n",
       "\n",
       "[891 rows x 17 columns]"
      ]
     },
     "execution_count": 277,
     "metadata": {},
     "output_type": "execute_result"
    }
   ],
   "source": [
    "titanic_df"
   ]
  },
  {
   "cell_type": "code",
   "execution_count": null,
   "id": "642c296b-36dc-42fb-9a79-a32f9694490a",
   "metadata": {},
   "outputs": [],
   "source": []
  }
 ],
 "metadata": {
  "kernelspec": {
   "display_name": "Python 3 (ipykernel)",
   "language": "python",
   "name": "python3"
  },
  "language_info": {
   "codemirror_mode": {
    "name": "ipython",
    "version": 3
   },
   "file_extension": ".py",
   "mimetype": "text/x-python",
   "name": "python",
   "nbconvert_exporter": "python",
   "pygments_lexer": "ipython3",
   "version": "3.12.4"
  }
 },
 "nbformat": 4,
 "nbformat_minor": 5
}
